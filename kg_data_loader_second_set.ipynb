{
 "cells": [
  {
   "cell_type": "markdown",
   "metadata": {},
   "source": [
    "NOTE: this wont run properly if run with llama_index versions lower than 11 (becaus of triplet parser function)"
   ]
  },
  {
   "cell_type": "code",
   "execution_count": 1,
   "metadata": {},
   "outputs": [],
   "source": [
    "#!pip install llama-index-llms-ollama"
   ]
  },
  {
   "cell_type": "code",
   "execution_count": 20,
   "metadata": {},
   "outputs": [],
   "source": [
    "from groq import Groq\n",
    "from llama_index.core import Settings, ServiceContext, StorageContext, SimpleDirectoryReader\n",
    "from llama_index.llms.groq import Groq as Groq_llamaindex\n",
    "from llama_index.llms.ollama import Ollama as Ollama_llamaindex\n",
    "from llama_index.embeddings.huggingface import HuggingFaceEmbedding\n",
    "#from llama_index.vector_stores.chroma import ChromaVectorStore\n",
    "from llama_index.core import VectorStoreIndex\n",
    "from llama_index.graph_stores.neo4j import Neo4jGraphStore, Neo4jPropertyGraphStore\n",
    "from milvus import default_server\n",
    "from dotenv import load_dotenv\n",
    "from llama_index.core.indices.property_graph import SchemaLLMPathExtractor, SimpleLLMPathExtractor, ImplicitPathExtractor, DynamicLLMPathExtractor\n",
    "\n",
    "from llama_index.core.node_parser import (\n",
    "    SentenceSplitter,\n",
    "    SemanticSplitterNodeParser,\n",
    ")\n",
    "\n",
    "\n",
    "\n",
    "load_dotenv()\n",
    "import json\n",
    "import os\n",
    "import numpy as np\n",
    "\n",
    "\n",
    "# Retrieve API keys and credentials securely\n",
    "GROQ_API_KEY = os.getenv('GROQ_API_KEY')\n",
    "NEO4J_USERNAME = os.getenv('NEO4J_USERNAME')\n",
    "NEO4J_PASSWORD = os.getenv('NEO4J_PASSWORD')\n",
    "NEO4J_URL = os.getenv('NEO4J_URL', 'bolt://localhost:7687')\n",
    "NEO4J_DATABASE = os.getenv('NEO4J_DATABASE', 'neo4j')\n",
    "\n",
    "\n",
    "client = Groq(api_key = GROQ_API_KEY)\n",
    "\n",
    "llm = Groq_llamaindex(model=\"llama3-groq-70b-8192-tool-use-preview\",\n",
    "                       api_key='your api key', #using data uploader for now\n",
    "                       temperature=0)\n",
    "\n",
    "#llm = Ollama_llamaindex(model='mistral:instruct', temperature=0)\n",
    "\n",
    "Settings.llm = llm\n",
    "Settings.embed_model = HuggingFaceEmbedding(\n",
    "    model_name=\"BAAI/bge-small-en-v1.5\"\n",
    ")\n",
    "\n",
    "StorageContext.llm = llm\n",
    "ServiceContext.llm = llm"
   ]
  },
  {
   "cell_type": "code",
   "execution_count": 3,
   "metadata": {},
   "outputs": [],
   "source": [
    "#llm.complete('write a poem')"
   ]
  },
  {
   "cell_type": "markdown",
   "metadata": {},
   "source": [
    "We now load the files with document readers. we select the following\n",
    "- 25 simple files from nzta\n",
    "- 15 annexed files from  nzta\n",
    "- 15 table files from nzta\n",
    "- 15 table annexed files from nzta\n",
    "- 25 files from mot"
   ]
  },
  {
   "cell_type": "code",
   "execution_count": 4,
   "metadata": {},
   "outputs": [],
   "source": [
    "username = NEO4J_USERNAME\n",
    "password =  NEO4J_PASSWORD\n",
    "url = NEO4J_URL\n",
    "database = NEO4J_DATABASE\n",
    "\n"
   ]
  },
  {
   "cell_type": "code",
   "execution_count": 8,
   "metadata": {},
   "outputs": [
    {
     "data": {
      "text/plain": [
       "'nzta_neo4j'"
      ]
     },
     "execution_count": 8,
     "metadata": {},
     "output_type": "execute_result"
    }
   ],
   "source": [
    "password"
   ]
  },
  {
   "cell_type": "code",
   "execution_count": 9,
   "metadata": {},
   "outputs": [
    {
     "name": "stderr",
     "output_type": "stream",
     "text": [
      "Received notification from DBMS server: {severity: WARNING} {code: Neo.ClientNotification.Statement.FeatureDeprecationWarning} {category: DEPRECATION} {title: This feature is deprecated and will be removed in future versions.} {description: The procedure has a deprecated field. ('config' used by 'apoc.meta.graphSample' is deprecated.)} {position: line: 1, column: 1, offset: 0} for query: \"CALL apoc.meta.graphSample() YIELD nodes, relationships RETURN nodes, [rel in relationships | {name:apoc.any.property(rel, 'type'), count: apoc.any.property(rel, 'count')}] AS relationships\"\n"
     ]
    }
   ],
   "source": [
    "\n",
    "property_graph_store = Neo4jPropertyGraphStore(\n",
    "    username=username,\n",
    "    password=password,\n",
    "    url=url,\n",
    "    database=database,\n",
    ")\n",
    "storage_context = StorageContext.from_defaults(property_graph_store=property_graph_store)\n",
    "\n"
   ]
  },
  {
   "cell_type": "code",
   "execution_count": 6,
   "metadata": {},
   "outputs": [
    {
     "name": "stdout",
     "output_type": "stream",
     "text": [
      "/Users/felipenavarro/Documents/Auckland/nzta/nzta_dev/NZTA-GraphRAG\n"
     ]
    }
   ],
   "source": [
    "# print working dir\n",
    "\n",
    "print(os.getcwd())"
   ]
  },
  {
   "cell_type": "code",
   "execution_count": 7,
   "metadata": {},
   "outputs": [
    {
     "data": {
      "text/plain": [
       "True"
      ]
     },
     "execution_count": 7,
     "metadata": {},
     "output_type": "execute_result"
    }
   ],
   "source": [
    "os.path.exists(\"/Users/felipenavarro/Documents/Auckland/nzta/nzta_dev/NZTA-GraphRAG/processed_files_test.txt\")"
   ]
  },
  {
   "cell_type": "code",
   "execution_count": 21,
   "metadata": {},
   "outputs": [
    {
     "name": "stdout",
     "output_type": "stream",
     "text": [
      "Processed files exist\n",
      "Processed files are: {'', 'oia-12115-response-letter.pdf', 'oia-6436-jordan-bond.pdf', 'oia-12662-response-letter.pdf', 'oia-13903-response-letter.pdf', 'oia-9406-response.pdf', 'oia-3496-michael-hayward-Item-1.pdf', 'oia-13118-response-letter.pdf', 'oia-0915-forbes.pdf', 'oia-5421-Robert-Pines.pdf', 'oia-12074-response-letter.pdf', 'oia-15834-response-letter.pdf', 'oia-9870-response.pdf', 'oia-9368-response.pdf', 'oia-5672-Phil-Pennington.pdf', 'oia-10465-george-block.pdf', 'OIA-1153-fuel-excise-refunds.pdf', 'oia-11764-response-letter.pdf', 'oia-12363-response-letter.pdf', 'OIA-13136-response-letter.pdf', 'oia-12236-response-letter.pdf', 'oia-5783-Jordan-Bond.pdf', 'oia-4379-Phil-Pennington.pdf', 'oia-9157-response.pdf', 'oia-3780-debrin-foxcroft-20180525.pdf', 'oia-15470-response-letter.pdf', 'oia-1129-keijser.pdf', 'oia-11388-response.pdf', 'oia-8452-response.pdf', 'oia-2940-Jo-Lines-MacKenzie.pdf', 'oia-4903-Andrew-Mcfarlane.pdf', 'oia-3727-bernard-orsman-20180508.pdf', 'oia-1757-strongman.pdf', 'oia-9587-response.pdf', 'OIA-4386-Thomas-Coughlan.pdf', 'oia-12215-response-letter.pdf', 'oia-6461-hamish-cardwell.pdf', 'oia-14980-response-letter.pdf', 'oia-6374-response.pdf', 'OIA-4337-Thomas-Coughlan.pdf', 'oia-12809-response-letter.pdf', 'oia-10752-response.pdf', 'oia-10550-response-letter.pdf', 'oia-2127-mathew-dearnaley.pdf', 'oia-15501-response-letter.pdf', 'oia-8555-response.pdf', 'oia-14650-response-letter.pdf', 'oia-4813-Amanda-Cropp.pdf', 'OIA-10601-response-georgina-campbell.pdf', 'oia-15599-response-letter-16-july-2024.pdf', 'oia-1209-fuatai.pdf', 'OIA-8177-response.pdf', 'oia-16157-response-letter.pdf', 'oia-1657-forbes.pdf', 'oia-4543-Phil-Pennington.pdf', 'oia-4525-zachary-wong-20190201.pdf', 'oia-6939-joel-macmanus.pdf', 'oia-8289-response.pdf', 'oia-9223-response.pdf', 'oia-11527-response-jamie-ensor-newshub.pdf', 'oia-4724-Jordan-Bond.pdf', 'oia-12463-response-letter.pdf', 'oia-1246-cherie-howie.pdf', 'oia-5067-Jono-Galuszka.pdf', 'oia-11540-response-letter.pdf', 'oia-6866-charlie-mitchell.pdf', 'oia-4982-Scott-Yeoman.pdf', 'oia-6967-matt-slaughter.pdf', 'oia-11292-response-letter.pdf', 'oia-8620-response.pdf', 'oia-12201-response-letter.pdf', 'oia-15584-response-letter.pdf', 'oia-6348-emma-conyngham.pdf', 'oia-3562-john-michael-swannix-20180326.PDF', 'oia-9194-response.pdf', 'oia-10323-zane-small.pdf', 'OIA-10423-response.pdf', 'oia-12311-response-letter.pdf', 'oia-4468-Michael-Morrah.pdf', 'oia-5142-Martin-van-Beynen.pdf', 'oia-13915-response-letter.pdf', 'oia-10432-oli-lewis.pdf', 'oia-4452-Georgina-Campbell.PDF', 'oia-1695-david-williams.pdf', 'oia-0942-prior.pdf', 'oia-4596-Amanda-Cropp.pdf', 'oia-6026-emma-hatton.pdf', 'oia-6487-phil-pennington.pdf', 'OIA-4233-Luke-Kirkness.pdf'}\n",
      "Processing batch 1/6: ['oia-1243-conan-young.pdf', 'oia-7339-nigel-parry.pdf']\n"
     ]
    },
    {
     "name": "stderr",
     "output_type": "stream",
     "text": [
      "Parsing nodes: 100%|██████████| 4/4 [00:00<00:00, 1809.84it/s]\n",
      "Extracting and inferring knowledge graph from text: 100%|██████████| 5/5 [00:07<00:00,  1.50s/it]\n"
     ]
    },
    {
     "name": "stdout",
     "output_type": "stream",
     "text": [
      "changes are being registered\n",
      "this is a node beofre poping the KG_NODES_KEY nodes and KG_RELATIONS_KEY relations\n",
      "this is the node part\n",
      "this is the relation part\n",
      "this is kg_node 0 Conan Young ({'page_label': '1', 'file_name': 'oia-1243-conan-young.pdf', 'file_path': '/Users/felipenavarro/Documents/Auckland/nzta/nzta_dev/NZTA-GraphRAG/transport_data/sample_files/nzta/temp_files/oia-1243-conan-young.pdf', 'file_type': 'application/pdf', 'file_size': 442225, 'creation_date': '2024-10-16', 'last_modified_date': '2024-10-16', 'triplet_source_id': '9d43909c-d1ec-4540-acb0-620cde4e63e7'})\n",
      "this is kg_rel 0 {'label': 'REQUESTED', 'source_id': 'Conan Young', 'target_id': 'Information under the Official Information Act 1982', 'properties': {'page_label': '1', 'file_name': 'oia-1243-conan-young.pdf', 'file_path': '/Users/felipenavarro/Documents/Auckland/nzta/nzta_dev/NZTA-GraphRAG/transport_data/sample_files/nzta/temp_files/oia-1243-conan-young.pdf', 'file_type': 'application/pdf', 'file_size': 442225, 'creation_date': '2024-10-16', 'last_modified_date': '2024-10-16', 'triplet_source_id': '9d43909c-d1ec-4540-acb0-620cde4e63e7'}}\n",
      "this is kg_rel 0 source_id Conan Young\n",
      "this is kg_rel 0 target_id Information under the Official Information Act 1982\n",
      "this is kg_rel 0 properties {}\n",
      "this is kg_rel 0 properties {}\n",
      "this is kg_rel 0 relation name REQUESTED\n"
     ]
    },
    {
     "name": "stderr",
     "output_type": "stream",
     "text": [
      "Generating embeddings: 100%|██████████| 1/1 [00:00<00:00,  3.14it/s]\n",
      "Generating embeddings: 100%|██████████| 11/11 [00:01<00:00,  5.94it/s]\n"
     ]
    },
    {
     "name": "stdout",
     "output_type": "stream",
     "text": [
      "This is an example of a kg relation to be embedded\n",
      "Conan Young REQUESTED Information under the Official Information Act 1982 {}\n"
     ]
    },
    {
     "name": "stderr",
     "output_type": "stream",
     "text": [
      "Generating embeddings: 100%|██████████| 9/9 [00:02<00:00,  4.41it/s]\n"
     ]
    },
    {
     "name": "stdout",
     "output_type": "stream",
     "text": [
      "I have succesuflly created relation embeddings\n"
     ]
    },
    {
     "name": "stderr",
     "output_type": "stream",
     "text": [
      "Received notification from DBMS server: {severity: WARNING} {code: Neo.ClientNotification.Statement.FeatureDeprecationWarning} {category: DEPRECATION} {title: This feature is deprecated and will be removed in future versions.} {description: The procedure has a deprecated field. ('config' used by 'apoc.meta.graphSample' is deprecated.)} {position: line: 1, column: 1, offset: 0} for query: \"CALL apoc.meta.graphSample() YIELD nodes, relationships RETURN nodes, [rel in relationships | {name:apoc.any.property(rel, 'type'), count: apoc.any.property(rel, 'count')}] AS relationships\"\n"
     ]
    },
    {
     "name": "stdout",
     "output_type": "stream",
     "text": [
      "Recorded processed files in processed_files.txt\n",
      "Batch 1/6 processed and cleaned up.\n",
      "\n",
      "Processing batch 2/6: ['oia-6641-sam-kelway.pdf', 'oia-13817-response-letter.pdf']\n"
     ]
    },
    {
     "name": "stderr",
     "output_type": "stream",
     "text": [
      "Parsing nodes: 100%|██████████| 3/3 [00:00<00:00, 903.69it/s]\n",
      "Extracting and inferring knowledge graph from text: 100%|██████████| 5/5 [00:04<00:00,  1.04it/s]\n"
     ]
    },
    {
     "name": "stdout",
     "output_type": "stream",
     "text": [
      "changes are being registered\n",
      "this is a node beofre poping the KG_NODES_KEY nodes and KG_RELATIONS_KEY relations\n",
      "this is the node part\n",
      "this is the relation part\n",
      "this is kg_node 0 Galina Mitchelhill ({'page_label': '1', 'file_name': 'oia-13817-response-letter.pdf', 'file_path': '/Users/felipenavarro/Documents/Auckland/nzta/nzta_dev/NZTA-GraphRAG/transport_data/sample_files/nzta/temp_files/oia-13817-response-letter.pdf', 'file_type': 'application/pdf', 'file_size': 136825, 'creation_date': '2024-10-16', 'last_modified_date': '2024-10-16', 'triplet_source_id': '36bc01ff-d1ad-433b-b585-ca64846e4c31'})\n",
      "this is kg_rel 0 {'label': 'IS', 'source_id': 'Galina Mitchelhill', 'target_id': 'Senior Manager, Research and Analytics', 'properties': {'page_label': '1', 'file_name': 'oia-13817-response-letter.pdf', 'file_path': '/Users/felipenavarro/Documents/Auckland/nzta/nzta_dev/NZTA-GraphRAG/transport_data/sample_files/nzta/temp_files/oia-13817-response-letter.pdf', 'file_type': 'application/pdf', 'file_size': 136825, 'creation_date': '2024-10-16', 'last_modified_date': '2024-10-16', 'triplet_source_id': '36bc01ff-d1ad-433b-b585-ca64846e4c31'}}\n",
      "this is kg_rel 0 source_id Galina Mitchelhill\n",
      "this is kg_rel 0 target_id Senior Manager, Research and Analytics\n",
      "this is kg_rel 0 properties {}\n",
      "this is kg_rel 0 properties {}\n",
      "this is kg_rel 0 relation name IS\n"
     ]
    },
    {
     "name": "stderr",
     "output_type": "stream",
     "text": [
      "Generating embeddings: 100%|██████████| 1/1 [00:00<00:00,  2.19it/s]\n",
      "Generating embeddings: 100%|██████████| 7/7 [00:01<00:00,  5.26it/s]\n"
     ]
    },
    {
     "name": "stdout",
     "output_type": "stream",
     "text": [
      "This is an example of a kg relation to be embedded\n",
      "Galina Mitchelhill IS Senior Manager, Research and Analytics {}\n"
     ]
    },
    {
     "name": "stderr",
     "output_type": "stream",
     "text": [
      "Generating embeddings: 100%|██████████| 5/5 [00:00<00:00,  5.04it/s]\n"
     ]
    },
    {
     "name": "stdout",
     "output_type": "stream",
     "text": [
      "I have succesuflly created relation embeddings\n"
     ]
    },
    {
     "name": "stderr",
     "output_type": "stream",
     "text": [
      "Received notification from DBMS server: {severity: WARNING} {code: Neo.ClientNotification.Statement.FeatureDeprecationWarning} {category: DEPRECATION} {title: This feature is deprecated and will be removed in future versions.} {description: The procedure has a deprecated field. ('config' used by 'apoc.meta.graphSample' is deprecated.)} {position: line: 1, column: 1, offset: 0} for query: \"CALL apoc.meta.graphSample() YIELD nodes, relationships RETURN nodes, [rel in relationships | {name:apoc.any.property(rel, 'type'), count: apoc.any.property(rel, 'count')}] AS relationships\"\n"
     ]
    },
    {
     "name": "stdout",
     "output_type": "stream",
     "text": [
      "Recorded processed files in processed_files.txt\n",
      "Batch 2/6 processed and cleaned up.\n",
      "\n",
      "Processing batch 3/6: ['oia-4409-Jo-Lines-Mackenzie.pdf', 'oia-8806-response.pdf']\n"
     ]
    },
    {
     "name": "stderr",
     "output_type": "stream",
     "text": [
      "Parsing nodes: 100%|██████████| 4/4 [00:00<00:00, 2002.05it/s]\n",
      "Extracting and inferring knowledge graph from text: 100%|██████████| 5/5 [00:23<00:00,  4.80s/it]\n"
     ]
    },
    {
     "name": "stdout",
     "output_type": "stream",
     "text": [
      "changes are being registered\n",
      "this is a node beofre poping the KG_NODES_KEY nodes and KG_RELATIONS_KEY relations\n",
      "this is the node part\n",
      "this is the relation part\n",
      "this is kg_node 0 Jo Lines-Mackenzie ({'page_label': '1', 'file_name': 'oia-4409-Jo-Lines-Mackenzie.pdf', 'file_path': '/Users/felipenavarro/Documents/Auckland/nzta/nzta_dev/NZTA-GraphRAG/transport_data/sample_files/nzta/temp_files/oia-4409-Jo-Lines-Mackenzie.pdf', 'file_type': 'application/pdf', 'file_size': 70607, 'creation_date': '2024-10-16', 'last_modified_date': '2024-10-16', 'triplet_source_id': '193caf39-8dbf-4bec-b79e-8e5c52c04d63'})\n",
      "this is kg_rel 0 {'label': 'REQUESTED', 'source_id': 'Jo Lines-Mackenzie', 'target_id': 'information under the Official Information Act 1982', 'properties': {'page_label': '1', 'file_name': 'oia-4409-Jo-Lines-Mackenzie.pdf', 'file_path': '/Users/felipenavarro/Documents/Auckland/nzta/nzta_dev/NZTA-GraphRAG/transport_data/sample_files/nzta/temp_files/oia-4409-Jo-Lines-Mackenzie.pdf', 'file_type': 'application/pdf', 'file_size': 70607, 'creation_date': '2024-10-16', 'last_modified_date': '2024-10-16', 'triplet_source_id': '193caf39-8dbf-4bec-b79e-8e5c52c04d63'}}\n",
      "this is kg_rel 0 source_id Jo Lines-Mackenzie\n",
      "this is kg_rel 0 target_id information under the Official Information Act 1982\n",
      "this is kg_rel 0 properties {}\n",
      "this is kg_rel 0 properties {}\n",
      "this is kg_rel 0 relation name REQUESTED\n"
     ]
    },
    {
     "name": "stderr",
     "output_type": "stream",
     "text": [
      "Generating embeddings: 100%|██████████| 1/1 [00:00<00:00,  3.92it/s]\n",
      "Generating embeddings: 100%|██████████| 12/12 [00:01<00:00,  8.15it/s]\n"
     ]
    },
    {
     "name": "stdout",
     "output_type": "stream",
     "text": [
      "This is an example of a kg relation to be embedded\n",
      "Jo Lines-Mackenzie REQUESTED information under the Official Information Act 1982 {}\n"
     ]
    },
    {
     "name": "stderr",
     "output_type": "stream",
     "text": [
      "Generating embeddings: 100%|██████████| 21/21 [00:03<00:00,  6.92it/s]\n"
     ]
    },
    {
     "name": "stdout",
     "output_type": "stream",
     "text": [
      "I have succesuflly created relation embeddings\n"
     ]
    },
    {
     "name": "stderr",
     "output_type": "stream",
     "text": [
      "Received notification from DBMS server: {severity: WARNING} {code: Neo.ClientNotification.Statement.FeatureDeprecationWarning} {category: DEPRECATION} {title: This feature is deprecated and will be removed in future versions.} {description: The procedure has a deprecated field. ('config' used by 'apoc.meta.graphSample' is deprecated.)} {position: line: 1, column: 1, offset: 0} for query: \"CALL apoc.meta.graphSample() YIELD nodes, relationships RETURN nodes, [rel in relationships | {name:apoc.any.property(rel, 'type'), count: apoc.any.property(rel, 'count')}] AS relationships\"\n"
     ]
    },
    {
     "name": "stdout",
     "output_type": "stream",
     "text": [
      "Recorded processed files in processed_files.txt\n",
      "Batch 3/6 processed and cleaned up.\n",
      "\n",
      "Processing batch 4/6: ['oia-8059-response.pdf', 'oia-1228-russell.pdf']\n"
     ]
    },
    {
     "name": "stderr",
     "output_type": "stream",
     "text": [
      "Parsing nodes: 100%|██████████| 8/8 [00:00<00:00, 4535.00it/s]\n",
      "Extracting and inferring knowledge graph from text: 100%|██████████| 8/8 [00:07<00:00,  1.10it/s]\n"
     ]
    },
    {
     "name": "stdout",
     "output_type": "stream",
     "text": [
      "changes are being registered\n",
      "this is a node beofre poping the KG_NODES_KEY nodes and KG_RELATIONS_KEY relations\n",
      "this is the node part\n",
      "this is the relation part\n",
      "this is kg_node 0 file_path ({'page_label': '1', 'file_name': 'oia-1228-russell.pdf', 'file_path': '/Users/felipenavarro/Documents/Auckland/nzta/nzta_dev/NZTA-GraphRAG/transport_data/sample_files/nzta/temp_files/oia-1228-russell.pdf', 'file_type': 'application/pdf', 'file_size': 2374692, 'creation_date': '2024-10-16', 'last_modified_date': '2024-10-16', 'triplet_source_id': 'b6f07858-b244-4bf7-8d89-33e4b0a2042a'})\n",
      "this is kg_rel 0 {'label': 'CONTAINS', 'source_id': 'file_path', 'target_id': 'oia-1228-russell.pdf', 'properties': {'page_label': '1', 'file_name': 'oia-1228-russell.pdf', 'file_path': '/Users/felipenavarro/Documents/Auckland/nzta/nzta_dev/NZTA-GraphRAG/transport_data/sample_files/nzta/temp_files/oia-1228-russell.pdf', 'file_type': 'application/pdf', 'file_size': 2374692, 'creation_date': '2024-10-16', 'last_modified_date': '2024-10-16', 'triplet_source_id': 'b6f07858-b244-4bf7-8d89-33e4b0a2042a'}}\n",
      "this is kg_rel 0 source_id file_path\n",
      "this is kg_rel 0 target_id oia-1228-russell.pdf\n",
      "this is kg_rel 0 properties {}\n",
      "this is kg_rel 0 properties {}\n",
      "this is kg_rel 0 relation name CONTAINS\n"
     ]
    },
    {
     "name": "stderr",
     "output_type": "stream",
     "text": [
      "Generating embeddings: 100%|██████████| 1/1 [00:00<00:00,  2.57it/s]\n",
      "Generating embeddings: 100%|██████████| 4/4 [00:00<00:00,  5.49it/s]\n"
     ]
    },
    {
     "name": "stdout",
     "output_type": "stream",
     "text": [
      "This is an example of a kg relation to be embedded\n",
      "file_path CONTAINS oia-1228-russell.pdf {}\n"
     ]
    },
    {
     "name": "stderr",
     "output_type": "stream",
     "text": [
      "Generating embeddings: 100%|██████████| 10/10 [00:01<00:00,  5.17it/s]\n"
     ]
    },
    {
     "name": "stdout",
     "output_type": "stream",
     "text": [
      "I have succesuflly created relation embeddings\n"
     ]
    },
    {
     "name": "stderr",
     "output_type": "stream",
     "text": [
      "Received notification from DBMS server: {severity: WARNING} {code: Neo.ClientNotification.Statement.FeatureDeprecationWarning} {category: DEPRECATION} {title: This feature is deprecated and will be removed in future versions.} {description: The procedure has a deprecated field. ('config' used by 'apoc.meta.graphSample' is deprecated.)} {position: line: 1, column: 1, offset: 0} for query: \"CALL apoc.meta.graphSample() YIELD nodes, relationships RETURN nodes, [rel in relationships | {name:apoc.any.property(rel, 'type'), count: apoc.any.property(rel, 'count')}] AS relationships\"\n"
     ]
    },
    {
     "name": "stdout",
     "output_type": "stream",
     "text": [
      "Recorded processed files in processed_files.txt\n",
      "Batch 4/6 processed and cleaned up.\n",
      "\n",
      "Processing batch 5/6: ['oia-1393-mcquillan.pdf', 'oia-15599-response-letter-23-july-2024.pdf']\n"
     ]
    },
    {
     "name": "stderr",
     "output_type": "stream",
     "text": [
      "Parsing nodes: 100%|██████████| 4/4 [00:00<00:00, 2270.26it/s]\n",
      "Extracting and inferring knowledge graph from text: 100%|██████████| 5/5 [00:04<00:00,  1.07it/s]\n"
     ]
    },
    {
     "name": "stdout",
     "output_type": "stream",
     "text": [
      "changes are being registered\n",
      "this is a node beofre poping the KG_NODES_KEY nodes and KG_RELATIONS_KEY relations\n",
      "this is the node part\n",
      "this is the relation part\n",
      "this is kg_node 0 file_path ({'page_label': '1', 'file_name': 'oia-1393-mcquillan.pdf', 'file_path': '/Users/felipenavarro/Documents/Auckland/nzta/nzta_dev/NZTA-GraphRAG/transport_data/sample_files/nzta/temp_files/oia-1393-mcquillan.pdf', 'file_type': 'application/pdf', 'file_size': 240386, 'creation_date': '2024-10-16', 'last_modified_date': '2024-10-16', 'triplet_source_id': '0e0a3659-5c44-4c2d-ba7b-09d8059096ea'})\n",
      "this is kg_rel 0 {'label': 'CONTAINS', 'source_id': 'file_path', 'target_id': 'oia-1393-mcquillan.pdf', 'properties': {'page_label': '1', 'file_name': 'oia-1393-mcquillan.pdf', 'file_path': '/Users/felipenavarro/Documents/Auckland/nzta/nzta_dev/NZTA-GraphRAG/transport_data/sample_files/nzta/temp_files/oia-1393-mcquillan.pdf', 'file_type': 'application/pdf', 'file_size': 240386, 'creation_date': '2024-10-16', 'last_modified_date': '2024-10-16', 'triplet_source_id': '0e0a3659-5c44-4c2d-ba7b-09d8059096ea'}}\n",
      "this is kg_rel 0 source_id file_path\n",
      "this is kg_rel 0 target_id oia-1393-mcquillan.pdf\n",
      "this is kg_rel 0 properties {}\n",
      "this is kg_rel 0 properties {}\n",
      "this is kg_rel 0 relation name CONTAINS\n"
     ]
    },
    {
     "name": "stderr",
     "output_type": "stream",
     "text": [
      "Generating embeddings: 100%|██████████| 1/1 [00:00<00:00,  3.93it/s]\n",
      "Generating embeddings: 100%|██████████| 2/2 [00:00<00:00,  4.51it/s]\n"
     ]
    },
    {
     "name": "stdout",
     "output_type": "stream",
     "text": [
      "This is an example of a kg relation to be embedded\n",
      "file_path CONTAINS oia-1393-mcquillan.pdf {}\n"
     ]
    },
    {
     "name": "stderr",
     "output_type": "stream",
     "text": [
      "Generating embeddings: 100%|██████████| 3/3 [00:00<00:00,  3.38it/s]\n"
     ]
    },
    {
     "name": "stdout",
     "output_type": "stream",
     "text": [
      "I have succesuflly created relation embeddings\n"
     ]
    },
    {
     "name": "stderr",
     "output_type": "stream",
     "text": [
      "Received notification from DBMS server: {severity: WARNING} {code: Neo.ClientNotification.Statement.FeatureDeprecationWarning} {category: DEPRECATION} {title: This feature is deprecated and will be removed in future versions.} {description: The procedure has a deprecated field. ('config' used by 'apoc.meta.graphSample' is deprecated.)} {position: line: 1, column: 1, offset: 0} for query: \"CALL apoc.meta.graphSample() YIELD nodes, relationships RETURN nodes, [rel in relationships | {name:apoc.any.property(rel, 'type'), count: apoc.any.property(rel, 'count')}] AS relationships\"\n"
     ]
    },
    {
     "name": "stdout",
     "output_type": "stream",
     "text": [
      "Recorded processed files in processed_files.txt\n",
      "Batch 5/6 processed and cleaned up.\n",
      "\n",
      "Processing batch 6/6: ['oia-11331-response.pdf', 'oia-2653-catherine-gaffaney.pdf']\n"
     ]
    },
    {
     "name": "stderr",
     "output_type": "stream",
     "text": [
      "Parsing nodes: 100%|██████████| 3/3 [00:00<00:00, 2078.79it/s]\n",
      "Extracting and inferring knowledge graph from text: 100%|██████████| 4/4 [00:08<00:00,  2.00s/it]\n"
     ]
    },
    {
     "name": "stdout",
     "output_type": "stream",
     "text": [
      "changes are being registered\n",
      "this is a node beofre poping the KG_NODES_KEY nodes and KG_RELATIONS_KEY relations\n",
      "this is the node part\n",
      "this is the relation part\n",
      "this is kg_node 0 file_path ({'page_label': '1', 'file_name': 'oia-11331-response.pdf', 'file_path': '/Users/felipenavarro/Documents/Auckland/nzta/nzta_dev/NZTA-GraphRAG/transport_data/sample_files/nzta/temp_files/oia-11331-response.pdf', 'file_type': 'application/pdf', 'file_size': 136738, 'creation_date': '2024-10-16', 'last_modified_date': '2024-10-16', 'triplet_source_id': '4df136b1-919b-49db-b611-2c74b2f9d571'})\n",
      "this is kg_rel 0 {'label': 'CONTAINS', 'source_id': 'file_path', 'target_id': 'oia-11331-response.pdf', 'properties': {'page_label': '1', 'file_name': 'oia-11331-response.pdf', 'file_path': '/Users/felipenavarro/Documents/Auckland/nzta/nzta_dev/NZTA-GraphRAG/transport_data/sample_files/nzta/temp_files/oia-11331-response.pdf', 'file_type': 'application/pdf', 'file_size': 136738, 'creation_date': '2024-10-16', 'last_modified_date': '2024-10-16', 'triplet_source_id': '4df136b1-919b-49db-b611-2c74b2f9d571'}}\n",
      "this is kg_rel 0 source_id file_path\n",
      "this is kg_rel 0 target_id oia-11331-response.pdf\n",
      "this is kg_rel 0 properties {}\n",
      "this is kg_rel 0 properties {}\n",
      "this is kg_rel 0 relation name CONTAINS\n"
     ]
    },
    {
     "name": "stderr",
     "output_type": "stream",
     "text": [
      "Generating embeddings: 100%|██████████| 1/1 [00:00<00:00,  3.68it/s]\n",
      "Generating embeddings: 100%|██████████| 3/3 [00:00<00:00,  5.32it/s]\n"
     ]
    },
    {
     "name": "stdout",
     "output_type": "stream",
     "text": [
      "This is an example of a kg relation to be embedded\n",
      "file_path CONTAINS oia-11331-response.pdf {}\n"
     ]
    },
    {
     "name": "stderr",
     "output_type": "stream",
     "text": [
      "Generating embeddings: 100%|██████████| 7/7 [00:01<00:00,  5.63it/s]\n"
     ]
    },
    {
     "name": "stdout",
     "output_type": "stream",
     "text": [
      "I have succesuflly created relation embeddings\n"
     ]
    },
    {
     "name": "stderr",
     "output_type": "stream",
     "text": [
      "Received notification from DBMS server: {severity: WARNING} {code: Neo.ClientNotification.Statement.FeatureDeprecationWarning} {category: DEPRECATION} {title: This feature is deprecated and will be removed in future versions.} {description: The procedure has a deprecated field. ('config' used by 'apoc.meta.graphSample' is deprecated.)} {position: line: 1, column: 1, offset: 0} for query: \"CALL apoc.meta.graphSample() YIELD nodes, relationships RETURN nodes, [rel in relationships | {name:apoc.any.property(rel, 'type'), count: apoc.any.property(rel, 'count')}] AS relationships\"\n"
     ]
    },
    {
     "name": "stdout",
     "output_type": "stream",
     "text": [
      "Recorded processed files in processed_files.txt\n",
      "Batch 6/6 processed and cleaned up.\n",
      "\n",
      "All files processed. Processed files list updated in 'processed_files.txt'.\n"
     ]
    }
   ],
   "source": [
    "import os\n",
    "import shutil\n",
    "import time\n",
    "from llama_index.core import PropertyGraphIndex\n",
    "from llama_index.core.indices.property_graph import SchemaLLMPathExtractor, SimpleLLMPathExtractor, ImplicitPathExtractor\n",
    "from llama_index.core import KnowledgeGraphIndex, SimpleDirectoryReader\n",
    "import nest_asyncio\n",
    "nest_asyncio.apply()\n",
    "\n",
    "\n",
    "# Initialize directories, batch size, wait time, and skip count\n",
    "\n",
    "source_dir = \"transport_data/sample_files/nzta/simple_files_set_2\"\n",
    "target_dir = \"transport_data/sample_files/nzta/temp_files\"\n",
    "batch_size = 2\n",
    "wait_minutes = 1  # Specify the wait time in minutes\n",
    "skip_files = 0  # Number of files to skip\n",
    "\n",
    "# Create the target directory if it does not exist\n",
    "if not os.path.exists(target_dir):\n",
    "    os.makedirs(target_dir)\n",
    "    \n",
    "\n",
    "# Start by deleting anything under temp_files but not the directory itself\n",
    "if os.path.exists(target_dir):\n",
    "    for file_name in os.listdir(target_dir):\n",
    "        file_path = os.path.join(target_dir, file_name)\n",
    "        if os.path.isfile(file_path):\n",
    "            os.remove(file_path)\n",
    "        else:\n",
    "            shutil.rmtree(file_path)\n",
    "\n",
    "# Read the list of already processed files\n",
    "processed_files = set()\n",
    "if os.path.exists(\"/Users/felipenavarro/Documents/Auckland/nzta/nzta_dev/NZTA-GraphRAG/processed_files_test.txt\"):\n",
    "    print(\"Processed files exist\")\n",
    "    with open(\"/Users/felipenavarro/Documents/Auckland/nzta/nzta_dev/NZTA-GraphRAG/processed_files_test.txt\", \"r\") as f:\n",
    "        processed_files = set(line.strip() for line in f)\n",
    "\n",
    "# List all files in the source directory\n",
    "full_file_list = os.listdir(source_dir)\n",
    "print(f\"Processed files are: {processed_files}\")\n",
    "# Filter out files that have already been processed\n",
    "full_file_list = [file for file in full_file_list if file not in processed_files]\n",
    "\n",
    "# Optionally, skip the first 'k' files\n",
    "if skip_files > 0:\n",
    "    full_file_list = full_file_list[skip_files:]\n",
    "\n",
    "# Calculate the number of batches needed\n",
    "num_batches = len(full_file_list) // batch_size + (1 if len(full_file_list) % batch_size > 0 else 0)\n",
    "\n",
    "for i in range(num_batches):\n",
    "    # Determine the start and end indices for the current batch\n",
    "    start_idx = i * batch_size\n",
    "    end_idx = min(start_idx + batch_size, len(full_file_list))\n",
    "\n",
    "    # Get the current batch of files\n",
    "    current_batch = full_file_list[start_idx:end_idx]\n",
    "    print(f\"Processing batch {i+1}/{num_batches}: {current_batch}\")\n",
    "\n",
    "    # Copy the current batch of files to the target directory\n",
    "    for file_name in current_batch:\n",
    "        shutil.copy(os.path.join(source_dir, file_name), os.path.join(target_dir, file_name))\n",
    "\n",
    "    # Process the current batch of files\n",
    "    graph_documents = SimpleDirectoryReader(target_dir).load_data()\n",
    "\n",
    "\n",
    "######## code below is for semantic splitter\n",
    "#     # Initialize the semantic splitter\n",
    "#     splitter = SemanticSplitterNodeParser(\n",
    "#     buffer_size=1, breakpoint_percentile_threshold=95, embed_model=Settings.embed_model\n",
    "#         )\n",
    "\n",
    "# # Use the semantic splitter to get the nodes (chunks) from the documents\n",
    "#     nodes = splitter.get_nodes_from_documents(graph_documents)\n",
    "######## code above is for semantic splitter\n",
    "\n",
    "    Settings.chunk_size = 512\n",
    "    Settings.chunk_overlap = 20\n",
    "\n",
    "\n",
    "# Original prompt modified by me\n",
    "\n",
    "#     extract_prompt = (\n",
    "#     \"Extract up to {max_knowledge_triplets} knowledge triplets from the given text. \"\n",
    "#     \"Each triplet should be in the form of (head, relation, tail) with their respective types.\\n\"\n",
    "#     \"---------------------\\n\"\n",
    "#     \"INITIAL ONTOLOGY:\\n\"\n",
    "#     \"Entity Types: {allowed_entity_types}\\n\"\n",
    "#     \"Relation Types: {allowed_relation_types}\\n\"\n",
    "#     \"\\n\"\n",
    "#     \"Use these types as a starting point, but introduce new types if necessary based on the context.\\n\"\n",
    "    \n",
    "#     \"For any reference to the New Zealand Transport Agency Waka Kotahi , including variations such as 'NZ Transport Agency Waka Kotahi',  ‘NZ Transport Agency,’ ‘National Transport Agency,’ ‘Waka Kotahi,’ or any similar phrasing, create the entity node as ‘NZTA.’ Ensure that all variations of this entity are consistently mapped to ‘NZTA’ in the output.\\n\"\n",
    "#     \"\\n\"\n",
    "#     \"GUIDELINES:\\n\"\n",
    "#     \"- Output in JSON format: [{{'head': '', 'head_type': '', 'relation': '', 'tail': '', 'tail_type': ''}}]\\n\"\n",
    "#     \"- Use the most complete form for entities (e.g., 'United States of America' instead of 'USA')\\n\"\n",
    "#     \"- Keep entities concise (3-5 words max)\\n\"\n",
    "#     \"- Break down complex phrases into multiple triplets\\n\"\n",
    "#     \"- Ensure the knowledge graph is coherent and easily understandable\\n\"\n",
    "#     \"---------------------\\n\"\n",
    "#     \"EXAMPLE:\\n\"\n",
    "#     \"Text: Tim Cook, CEO of Apple Inc., announced the new Apple Watch that monitors heart health. \"\n",
    "#     \"UC Berkeley researchers studied the benefits of apples.\\n\"\n",
    "#     \"Output:\\n\"\n",
    "#     \"[{{'head': 'Tim Cook', 'head_type': 'PERSON', 'relation': 'CEO_OF', 'tail': 'Apple Inc.', 'tail_type': 'COMPANY'}},\\n\"\n",
    "#     \" {{'head': 'Apple Inc.', 'head_type': 'COMPANY', 'relation': 'PRODUCES', 'tail': 'Apple Watch', 'tail_type': 'PRODUCT'}},\\n\"\n",
    "#     \" {{'head': 'Apple Watch', 'head_type': 'PRODUCT', 'relation': 'MONITORS', 'tail': 'heart health', 'tail_type': 'HEALTH_METRIC'}},\\n\"\n",
    "#     \" {{'head': 'UC Berkeley', 'head_type': 'UNIVERSITY', 'relation': 'STUDIES', 'tail': 'benefits of apples', 'tail_type': 'RESEARCH_TOPIC'}}]\\n\"\n",
    "#     \"---------------------\\n\"\n",
    "#     \"Text: {text}\\n\"\n",
    "#     \"Output:\\n\"\n",
    "# )\n",
    "\n",
    "# # Prompt by chatgpt. \n",
    "   # NZTA-oriented Prompt\n",
    "    extract_prompt = (\n",
    "    \"Extract up to {max_knowledge_triplets} knowledge triplets from the given text. \"\n",
    "    \"Each triplet should be in the form of (head, relation, tail) with their respective types and properties.\\n\"\n",
    "    \"---------------------\\n\"\n",
    "    \"INITIAL ONTOLOGY:\\n\"\n",
    "    \"Entity Types: {allowed_entity_types}\\n\"\n",
    "    \"Entity Properties: {allowed_entity_properties}\\n\"\n",
    "    \"Relation Types: {allowed_relation_types}\\n\"\n",
    "    \"Relation Properties: {allowed_relation_properties}\\n\"\n",
    "    \"\\n\"\n",
    "    \"Use these types as a starting point, but introduce new types if necessary based on the context.\\n\"\n",
    "    \"\\n\"\n",
    "    \"GUIDELINES:\\n\"\n",
    "    \"- Output in JSON format: [{{'head': '', 'head_type': '', 'head_props': {{...}}, 'relation': '', 'relation_props': {{...}}, 'tail': '', 'tail_type': '', 'tail_props': {{...}}}}]\\n\"\n",
    "    \"- Use the most complete form for entities (e.g., 'New Zealand Transport Agency' instead of abbreviations)\\n\"\n",
    "    \"For any reference to the New Zealand Transport Agency, including variations such as 'NZ Transport Agency Waka Kotahi', ‘NZ Transport Agency,’ ‘National Transport Agency,’ ‘Waka Kotahi,’ or any similar phrasing, create the entity node as 'New Zealand Transport Agency.' Ensure all variations of this entity are consistently mapped to 'New Zealand Transport Agency' in the output.\\n\"\n",
    "    \"- Do not create entities like 'request' or 'response' as they appear frequently and do not contribute to meaningful graph structure.\\n\"\n",
    "    \"- Do not create entities that are numbers, prices, or non-essential terms (e.g., dates unless critical to the meaning).\\n\"\n",
    "    \"- Keep entities concise (3-5 words max).\\n\"\n",
    "    \"- Break down complex phrases into multiple triplets for better granularity.\\n\"\n",
    "    \"- Ensure the knowledge graph is coherent and easily understandable.\\n\"\n",
    "    \"- Ensure that all property values are primitive types (e.g., String, Integer, Float, Boolean) or arrays of these types. Do not use maps or other complex structures.\\n\"\n",
    "    \"---------------------\\n\"\n",
    "    \"EXAMPLE:\\n\"\n",
    "    \"Text: The New Zealand Transport Agency approved the funding for road maintenance on State Highway 1.\\n\"\n",
    "    \"Wellington City Council is collaborating with the New Zealand Transport Agency on improving road safety initiatives.\\n\"\n",
    "    \"Output:\\n\"\n",
    "    \"[{{'head': 'New Zealand Transport Agency', 'head_type': 'AGENCY', 'head_props': {{'prop1': 'val', ...}}, \"\n",
    "    \"'relation': 'APPROVES', 'relation_props': {{'prop1': 'val', ...}}, \"\n",
    "    \"'tail': 'funding for road maintenance', 'tail_type': 'FUNDING_DECISION', 'tail_props': {{'prop1': 'val', ...}}}},\\n\"\n",
    "    \" {{'head': 'Wellington City Council', 'head_type': 'ORGANIZATION', 'head_props': {{'prop1': 'val', ...}}, \"\n",
    "    \"'relation': 'COLLABORATES_WITH', 'relation_props': {{'prop1': 'val', ...}}, \"\n",
    "    \"'tail': 'New Zealand Transport Agency', 'tail_type': 'AGENCY', 'tail_props': {{'prop1': 'val', ...}}}},\\n\"\n",
    "    \" {{'head': 'road safety initiatives', 'head_type': 'PROJECT', 'head_props': {{'prop1': 'val', ...}}, \"\n",
    "    \"'relation': 'IMPROVES', 'relation_props': {{'prop1': 'val', ...}}, \"\n",
    "    \"'tail': 'State Highway 1', 'tail_type': 'INFRASTRUCTURE', 'tail_props': {{'prop1': 'val', ...}}}}]\\n\"\n",
    "    \"---------------------\\n\"\n",
    "    \"Text: {text}\\n\"\n",
    "    \"Output:\\n\"\n",
    ")\n",
    "    \n",
    "    kg_extractor = DynamicLLMPathExtractor(\n",
    "    llm=llm,\n",
    "    extract_prompt=extract_prompt,\n",
    "    max_triplets_per_chunk=15,\n",
    "    \n",
    "    num_workers=4,\n",
    "    # Let the LLM infer entities and their labels (types) on the fly\n",
    "    allowed_entity_types=['People', 'Organizations', 'Locations', 'Processes', 'Agreements', 'Buildings', 'Streets', 'Projects', 'Events','Policies', 'Rules', 'Laws'],\n",
    "    # Let the LLM infer relationships on the fly\n",
    "    allowed_relation_types=None,\n",
    "    # LLM will generate any entity properties, set `None` to skip property generation (will be faster without)\n",
    "    allowed_relation_props=[],\n",
    "    # LLM will generate any relation properties, set `None` to skip property generation (will be faster without)\n",
    "    allowed_entity_props=[],\n",
    "    )\n",
    "\n",
    "    graph_index = PropertyGraphIndex.from_documents(\n",
    "    graph_documents,\n",
    "    property_graph_store=property_graph_store,\n",
    "    storage_context=storage_context,\n",
    "    #kg_extractors=[SimpleLLMPathExtractor(llm=llm), ImplicitPathExtractor()],\n",
    "    kg_extractors=[kg_extractor],\n",
    "    embed_kg_nodes=True,\n",
    "    show_progress=True)\n",
    "     \n",
    "    # Use the semantic splitter to get the nodes (chunks) from the documents\n",
    "#     graph_index = PropertyGraphIndex(\n",
    "#     nodes,  # Use the split nodes here\n",
    "#     property_graph_store=property_graph_store,\n",
    "#     storage_context=storage_context,\n",
    "#     kg_extractors=[kg_extractor],\n",
    "#     embed_kg_nodes=True,\n",
    "#     show_progress=True\n",
    "# )\n",
    "\n",
    "\n",
    "    # Record the processed files immediately after processing\n",
    "    with open(\"processed_files_test.txt\", \"a\") as f:\n",
    "        for file_name in current_batch:\n",
    "            f.write(f\"{file_name}\\n\")\n",
    "            f.flush()  # Ensure data is written to disk\n",
    "    print('Recorded processed files in processed_files.txt')\n",
    "\n",
    "    # Wait for the specified number of minutes\n",
    "    time.sleep(wait_minutes * 60)\n",
    "\n",
    "    # Delete the processed files from the target directory\n",
    "    for file_name in current_batch:\n",
    "        os.remove(os.path.join(target_dir, file_name))\n",
    "\n",
    "    print(f\"Batch {i+1}/{num_batches} processed and cleaned up.\\n\")\n",
    "\n",
    "print(\"All files processed. Processed files list updated in 'processed_files.txt'.\")\n",
    "\n"
   ]
  },
  {
   "cell_type": "code",
   "execution_count": 18,
   "metadata": {},
   "outputs": [
    {
     "data": {
      "text/plain": [
       "\"Extract up to {max_knowledge_triplets} knowledge triplets from the given text. Each triplet should be in the form of (head, relation, tail) with their respective types and properties.\\n---------------------\\nINITIAL ONTOLOGY:\\nEntity Types: {allowed_entity_types}\\nEntity Properties: {allowed_entity_properties}\\nRelation Types: {allowed_relation_types}\\nRelation Properties: {allowed_relation_properties}\\n\\nUse these types as a starting point, but introduce new types if necessary based on the context.\\n\\nGUIDELINES:\\n- Output in JSON format: [{{'head': '', 'head_type': '', 'head_props': {{...}}, 'relation': '', 'relation_props': {{...}}, 'tail': '', 'tail_type': '', 'tail_props': {{...}}}}]\\n- Use the most complete form for entities (e.g., 'United States of America' instead of 'USA')\\nFor any reference to the New Zealand Transport Agency Waka Kotahi , including variations such as 'NZ Transport Agency Waka Kotahi',  ‘NZ Transport Agency,’ ‘National Transport Agency,’ ‘Waka Kotahi,’ or any similar phrasing, create the entity node as Newzealand Transport Agency.’ Ensure that all variations of this entity are consistently mapped to New Zealand Transport Agency in the output.\\n- Do not crearte entities 'request' or 'response'- Keep entities concise (3-5 words max)\\n- Break down complex phrases into multiple triplets\\n- Ensure the knowledge graph is coherent and easily understandable\\n---------------------\\nEXAMPLE:\\nText: Tim Cook, CEO of Apple Inc., announced the new Apple Watch that monitors heart health. UC Berkeley researchers studied the benefits of apples.\\nOutput:\\n[{{'head': 'Tim Cook', 'head_type': 'PERSON', 'head_props': {{'prop1': 'val', ...}}, 'relation': 'CEO_OF', 'relation_props': {{'prop1': 'val', ...}}, 'tail': 'Apple Inc.', 'tail_type': 'COMPANY', 'tail_props': {{'prop1': 'val', ...}}}},\\n {{'head': 'Apple Inc.', 'head_type': 'COMPANY', 'head_props': {{'prop1': 'val', ...}}, 'relation': 'PRODUCES', 'relation_props': {{'prop1': 'val', ...}}, 'tail': 'Apple Watch', 'tail_type': 'PRODUCT', 'tail_props': {{'prop1': 'val', ...}}}},\\n {{'head': 'Apple Watch', 'head_type': 'PRODUCT', 'head_props': {{'prop1': 'val', ...}}, 'relation': 'MONITORS', 'relation_props': {{'prop1': 'val', ...}}, 'tail': 'heart health', 'tail_type': 'HEALTH_METRIC', 'tail_props': {{'prop1': 'val', ...}}}},\\n {{'head': 'UC Berkeley', 'head_type': 'UNIVERSITY', 'head_props': {{'prop1': 'val', ...}}, 'relation': 'STUDIES', 'relation_props': {{'prop1': 'val', ...}}, 'tail': 'benefits of apples', 'tail_type': 'RESEARCH_TOPIC', 'tail_props': {{'prop1': 'val', ...}}}}]\\n---------------------\\nText: {text}\\nOutput:\\n\""
      ]
     },
     "execution_count": 18,
     "metadata": {},
     "output_type": "execute_result"
    }
   ],
   "source": [
    "kg_extractor.extract_prompt.template"
   ]
  },
  {
   "cell_type": "code",
   "execution_count": 19,
   "metadata": {},
   "outputs": [
    {
     "name": "stdout",
     "output_type": "stream",
     "text": [
      "\u001b[0;31mSignature:\u001b[0m\n",
      "\u001b[0mPropertyGraphIndex\u001b[0m\u001b[0;34m.\u001b[0m\u001b[0mfrom_documents\u001b[0m\u001b[0;34m(\u001b[0m\u001b[0;34m\u001b[0m\n",
      "\u001b[0;34m\u001b[0m    \u001b[0mdocuments\u001b[0m\u001b[0;34m:\u001b[0m \u001b[0mSequence\u001b[0m\u001b[0;34m[\u001b[0m\u001b[0mllama_index\u001b[0m\u001b[0;34m.\u001b[0m\u001b[0mcore\u001b[0m\u001b[0;34m.\u001b[0m\u001b[0mschema\u001b[0m\u001b[0;34m.\u001b[0m\u001b[0mDocument\u001b[0m\u001b[0;34m]\u001b[0m\u001b[0;34m,\u001b[0m\u001b[0;34m\u001b[0m\n",
      "\u001b[0;34m\u001b[0m    \u001b[0mstorage_context\u001b[0m\u001b[0;34m:\u001b[0m \u001b[0mOptional\u001b[0m\u001b[0;34m[\u001b[0m\u001b[0mllama_index\u001b[0m\u001b[0;34m.\u001b[0m\u001b[0mcore\u001b[0m\u001b[0;34m.\u001b[0m\u001b[0mstorage\u001b[0m\u001b[0;34m.\u001b[0m\u001b[0mstorage_context\u001b[0m\u001b[0;34m.\u001b[0m\u001b[0mStorageContext\u001b[0m\u001b[0;34m]\u001b[0m \u001b[0;34m=\u001b[0m \u001b[0;32mNone\u001b[0m\u001b[0;34m,\u001b[0m\u001b[0;34m\u001b[0m\n",
      "\u001b[0;34m\u001b[0m    \u001b[0mshow_progress\u001b[0m\u001b[0;34m:\u001b[0m \u001b[0mbool\u001b[0m \u001b[0;34m=\u001b[0m \u001b[0;32mFalse\u001b[0m\u001b[0;34m,\u001b[0m\u001b[0;34m\u001b[0m\n",
      "\u001b[0;34m\u001b[0m    \u001b[0mcallback_manager\u001b[0m\u001b[0;34m:\u001b[0m \u001b[0mOptional\u001b[0m\u001b[0;34m[\u001b[0m\u001b[0mllama_index\u001b[0m\u001b[0;34m.\u001b[0m\u001b[0mcore\u001b[0m\u001b[0;34m.\u001b[0m\u001b[0mcallbacks\u001b[0m\u001b[0;34m.\u001b[0m\u001b[0mbase\u001b[0m\u001b[0;34m.\u001b[0m\u001b[0mCallbackManager\u001b[0m\u001b[0;34m]\u001b[0m \u001b[0;34m=\u001b[0m \u001b[0;32mNone\u001b[0m\u001b[0;34m,\u001b[0m\u001b[0;34m\u001b[0m\n",
      "\u001b[0;34m\u001b[0m    \u001b[0mtransformations\u001b[0m\u001b[0;34m:\u001b[0m \u001b[0mOptional\u001b[0m\u001b[0;34m[\u001b[0m\u001b[0mList\u001b[0m\u001b[0;34m[\u001b[0m\u001b[0mllama_index\u001b[0m\u001b[0;34m.\u001b[0m\u001b[0mcore\u001b[0m\u001b[0;34m.\u001b[0m\u001b[0mschema\u001b[0m\u001b[0;34m.\u001b[0m\u001b[0mTransformComponent\u001b[0m\u001b[0;34m]\u001b[0m\u001b[0;34m]\u001b[0m \u001b[0;34m=\u001b[0m \u001b[0;32mNone\u001b[0m\u001b[0;34m,\u001b[0m\u001b[0;34m\u001b[0m\n",
      "\u001b[0;34m\u001b[0m    \u001b[0;34m**\u001b[0m\u001b[0mkwargs\u001b[0m\u001b[0;34m:\u001b[0m \u001b[0mAny\u001b[0m\u001b[0;34m,\u001b[0m\u001b[0;34m\u001b[0m\n",
      "\u001b[0;34m\u001b[0m\u001b[0;34m)\u001b[0m \u001b[0;34m->\u001b[0m \u001b[0;34m~\u001b[0m\u001b[0mIndexType\u001b[0m\u001b[0;34m\u001b[0m\u001b[0;34m\u001b[0m\u001b[0m\n",
      "\u001b[0;31mDocstring:\u001b[0m\n",
      "Create index from documents.\n",
      "\n",
      "Args:\n",
      "    documents (Optional[Sequence[BaseDocument]]): List of documents to\n",
      "        build the index from.\n",
      "\u001b[0;31mFile:\u001b[0m      ~/Documents/Auckland/nzta/nzta_dev/NZTA-GraphRAG/nzta_dev_env/lib/python3.11/site-packages/llama_index/core/indices/base.py\n",
      "\u001b[0;31mType:\u001b[0m      method"
     ]
    }
   ],
   "source": [
    "PropertyGraphIndex.from_documents?"
   ]
  },
  {
   "cell_type": "code",
   "execution_count": 20,
   "metadata": {},
   "outputs": [
    {
     "ename": "SyntaxError",
     "evalue": "unterminated string literal (detected at line 3) (678980661.py, line 3)",
     "output_type": "error",
     "traceback": [
      "\u001b[0;36m  Cell \u001b[0;32mIn[20], line 3\u001b[0;36m\u001b[0m\n\u001b[0;31m    \"---------------------\\nINITIAL ONTOLOGY:\\nEntity Types: {allowed_entity_types}\\nEntity Properties: {allowed_entity_properties}\\nRelation\u001b[0m\n\u001b[0m    ^\u001b[0m\n\u001b[0;31mSyntaxError\u001b[0m\u001b[0;31m:\u001b[0m unterminated string literal (detected at line 3)\n"
     ]
    }
   ],
   "source": [
    "\"Extract up to {max_knowledge_triplets} knowledge triplets from the given text.\" \n",
    "\"Each triplet should be in the form of (head, relation, tail) with their respective types and properties.\\n\"\n",
    "\"---------------------\\nINITIAL ONTOLOGY:\\nEntity Types: {allowed_entity_types}\\nEntity Properties: {allowed_entity_properties}\\nRelation \n",
    "\"Types: {allowed_relation_types}\\nRelation Properties: {allowed_relation_properties}\\n\\nUse these types as a starting point, \"\n",
    "\"but introduce new types if necessary based on the context.\\n\\nGUIDELINES:\\n-\"\n",
    "\"Output in JSON format: [{{'head': '', 'head_type': '', 'head_props': {{...}}, 'relation': '', 'relation_props': {{...}}, 'tail': '', 'tail_type': '', 'tail_props': {{...}}}}]\\n- \"\n",
    "\"Use the most complete form for entities (e.g., 'United States of America' instead of 'USA')\\n- Keep entities concise \" \n",
    "\"(3-5 words max)\\n- Break down complex phrases into multiple triplets\\n- Ensure the knowledge graph is coherent and easily \"\n",
    "\"understandable\\n---------------------\\nEXAMPLE:\\nText: Tim Cook, CEO of Apple Inc., announced the new Apple Watch that monitors heart health. UC Berkeley researchers studied the benefits of apples.\\nOutput:\\n[{{'head': 'Tim Cook', 'head_type': 'PERSON', 'head_props': {{'prop1': 'val', ...}}, 'relation': 'CEO_OF', 'relation_props': {{'prop1': 'val', ...}}, 'tail': 'Apple Inc.', 'tail_type': 'COMPANY', 'tail_props': {{'prop1': 'val', ...}}}},\\n {{'head': 'Apple Inc.', 'head_type': 'COMPANY', 'head_props': {{'prop1': 'val', ...}}, 'relation': 'PRODUCES', 'relation_props': {{'prop1': 'val', ...}}, 'tail': 'Apple Watch', 'tail_type': 'PRODUCT', 'tail_props': {{'prop1': 'val', ...}}}},\\n {{'head': 'Apple Watch', 'head_type': 'PRODUCT', 'head_props': {{'prop1': 'val', ...}}, 'relation': 'MONITORS', 'relation_props': {{'prop1': 'val', ...}}, 'tail': 'heart health', 'tail_type': 'HEALTH_METRIC', 'tail_props': {{'prop1': 'val', ...}}}},\\n {{'head': 'UC Berkeley', 'head_type': 'UNIVERSITY', 'head_props': {{'prop1': 'val', ...}}, 'relation': 'STUDIES', 'relation_props': {{'prop1': 'val', ...}}, 'tail': 'benefits of apples', 'tail_type': 'RESEARCH_TOPIC', 'tail_props': {{'prop1': 'val', ...}}}}]\\n---------------------\\nText: {text}\\nOutput:\\n\""
   ]
  }
 ],
 "metadata": {
  "kernelspec": {
   "display_name": "nzta_dev_env",
   "language": "python",
   "name": "python3"
  },
  "language_info": {
   "codemirror_mode": {
    "name": "ipython",
    "version": 3
   },
   "file_extension": ".py",
   "mimetype": "text/x-python",
   "name": "python",
   "nbconvert_exporter": "python",
   "pygments_lexer": "ipython3",
   "version": "3.11.10"
  }
 },
 "nbformat": 4,
 "nbformat_minor": 2
}
