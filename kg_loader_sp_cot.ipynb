{
 "cells": [
  {
   "cell_type": "markdown",
   "metadata": {},
   "source": [
    "NOTE: this wont run properly if run with llama_index versions lower than 11 (becaus of triplet parser function)"
   ]
  },
  {
   "cell_type": "code",
   "execution_count": 1,
   "metadata": {},
   "outputs": [
    {
     "name": "stderr",
     "output_type": "stream",
     "text": [
      "/Users/felipenavarro/Documents/Auckland/nzta/nzta_experiment/NZTA-GraphRAG-Experiment/nzta_experiment_env/lib/python3.11/site-packages/tqdm/auto.py:21: TqdmWarning: IProgress not found. Please update jupyter and ipywidgets. See https://ipywidgets.readthedocs.io/en/stable/user_install.html\n",
      "  from .autonotebook import tqdm as notebook_tqdm\n"
     ]
    }
   ],
   "source": [
    "from groq import Groq\n",
    "from llama_index.core import Settings, ServiceContext, StorageContext, SimpleDirectoryReader\n",
    "from llama_index.llms.groq import Groq as Groq_llamaindex\n",
    "#from llama_index.llms.ollama import Ollama as Ollama_llamaindex\n",
    "from llama_index.embeddings.huggingface import HuggingFaceEmbedding\n",
    "#from llama_index.vector_stores.chroma import ChromaVectorStore\n",
    "from llama_index.core import VectorStoreIndex\n",
    "from llama_index.graph_stores.neo4j import Neo4jGraphStore, Neo4jPropertyGraphStore\n",
    "from milvus import default_server\n",
    "from dotenv import load_dotenv\n",
    "from llama_index.core.indices.property_graph import SchemaLLMPathExtractor, SimpleLLMPathExtractor, ImplicitPathExtractor, DynamicLLMPathExtractor\n",
    "from llama_index.core import Document\n",
    "\n",
    "from llama_index.core.node_parser import (\n",
    "    SentenceSplitter,\n",
    "    SemanticSplitterNodeParser,\n",
    ")\n",
    "\n",
    "\n",
    "\n",
    "load_dotenv()\n",
    "import json\n",
    "import os\n",
    "import numpy as np\n",
    "\n",
    "\n",
    "# Retrieve API keys and credentials securely\n",
    "GROQ_API_KEY = os.getenv('GROQ_API_KEY')\n",
    "NEO4J_USERNAME = os.getenv('NEO4J_USERNAME')\n",
    "NEO4J_PASSWORD = os.getenv('NEO4J_PASSWORD')\n",
    "NEO4J_URL = os.getenv('NEO4J_URL', 'bolt://localhost:7687')\n",
    "NEO4J_DATABASE = os.getenv('NEO4J_DATABASE', 'neo4j')\n",
    "\n",
    "\n",
    "#client = Groq(api_key = GROQ_API_KEY)\n",
    "\n",
    "llm = Groq_llamaindex(model=\"llama3-groq-70b-8192-tool-use-preview\",\n",
    "                       api_key=GROQ_API_KEY, #using data uploader for now\n",
    "                       temperature=0)\n",
    "\n",
    "#llm = Ollama_llamaindex(model='mistral:instruct', temperature=0)\n",
    "\n",
    "Settings.llm = llm\n",
    "Settings.embed_model = HuggingFaceEmbedding(\n",
    "    model_name=\"BAAI/bge-small-en-v1.5\"\n",
    ")\n",
    "\n",
    "StorageContext.llm = llm\n",
    "ServiceContext.llm = llm"
   ]
  },
  {
   "cell_type": "code",
   "execution_count": 2,
   "metadata": {},
   "outputs": [],
   "source": [
    "username = NEO4J_USERNAME\n",
    "password =  NEO4J_PASSWORD\n",
    "url = NEO4J_URL\n",
    "database = NEO4J_DATABASE\n",
    "\n"
   ]
  },
  {
   "cell_type": "code",
   "execution_count": 3,
   "metadata": {},
   "outputs": [
    {
     "name": "stderr",
     "output_type": "stream",
     "text": [
      "Received notification from DBMS server: {severity: WARNING} {code: Neo.ClientNotification.Statement.FeatureDeprecationWarning} {category: DEPRECATION} {title: This feature is deprecated and will be removed in future versions.} {description: The procedure has a deprecated field. ('config' used by 'apoc.meta.graphSample' is deprecated.)} {position: line: 1, column: 1, offset: 0} for query: \"CALL apoc.meta.graphSample() YIELD nodes, relationships RETURN nodes, [rel in relationships | {name:apoc.any.property(rel, 'type'), count: apoc.any.property(rel, 'count')}] AS relationships\"\n"
     ]
    }
   ],
   "source": [
    "\n",
    "property_graph_store = Neo4jPropertyGraphStore(\n",
    "    username=username,\n",
    "    password=password,\n",
    "    url=url,\n",
    "    database=database,\n",
    "    refresh_schema=False,\n",
    ")\n",
    "storage_context = StorageContext.from_defaults(property_graph_store=property_graph_store)\n",
    "\n"
   ]
  },
  {
   "cell_type": "code",
   "execution_count": 4,
   "metadata": {},
   "outputs": [],
   "source": [
    "\n",
    "with open(\"transport_data/sp_cot/newzealand transport agency and newzealand transport related topics (road, projects, safety, vehicles, personel, organization, etc)_100.json\", 'r') as file:\n",
    "    data = json.load(file)\n",
    "\n"
   ]
  },
  {
   "cell_type": "code",
   "execution_count": 5,
   "metadata": {},
   "outputs": [
    {
     "data": {
      "image/png": "[encoded data removed]",
      "text/plain": [
       "<Figure size 800x600 with 1 Axes>"
      ]
     },
     "metadata": {},
     "output_type": "display_data"
    }
   ],
   "source": [
    "import matplotlib.pyplot as plt\n",
    "\n",
    "\n",
    "# Extract passages from both 'first_hops' and 'second_hops'\n",
    "passages = []\n",
    "\n",
    "# Retrieve passages from first_hops\n",
    "for entity, info in data.get('first_hops', {}).items():\n",
    "    passages.append(info['passage'])\n",
    "\n",
    "# Retrieve passages from second_hops\n",
    "for entity, info in data.get('second_hops', {}).items():\n",
    "    passages.append(info['passage'])\n",
    "\n",
    "# Count the number of words in each passage\n",
    "word_counts = [len(passage.split()) for passage in passages]\n",
    "\n",
    "# Plotting the histogram of word counts\n",
    "plt.figure(figsize=(8, 6))\n",
    "plt.hist(word_counts, bins=10, edgecolor='black')\n",
    "plt.title('Distribution of Word Counts in Passages')\n",
    "plt.xlabel('Number of Words')\n",
    "plt.ylabel('Frequency')\n",
    "plt.grid(True)\n",
    "plt.show()\n"
   ]
  },
  {
   "cell_type": "code",
   "execution_count": 6,
   "metadata": {},
   "outputs": [
    {
     "data": {
      "text/plain": [
       "205"
      ]
     },
     "execution_count": 6,
     "metadata": {},
     "output_type": "execute_result"
    }
   ],
   "source": [
    "len(passages)"
   ]
  },
  {
   "cell_type": "code",
   "execution_count": 7,
   "metadata": {},
   "outputs": [
    {
     "name": "stdout",
     "output_type": "stream",
     "text": [
      "No existing processed file found at 'processed_passages.csv'. Starting fresh.\n",
      "Saved passage for term 'Transport Projects' to 'temp_passages/first_hops_Transport_Projects.txt'.\n"
     ]
    },
    {
     "name": "stderr",
     "output_type": "stream",
     "text": [
      "Parsing nodes: 100%|██████████| 1/1 [00:00<00:00, 1323.96it/s]\n",
      "Extracting paths from text: 100%|██████████| 1/1 [00:00<00:00,  1.32it/s]\n",
      "Generating embeddings: 100%|██████████| 1/1 [00:00<00:00,  4.91it/s]\n",
      "Generating embeddings: 100%|██████████| 2/2 [00:00<00:00,  5.40it/s]\n",
      "Received notification from DBMS server: {severity: WARNING} {code: Neo.ClientNotification.Statement.FeatureDeprecationWarning} {category: DEPRECATION} {title: This feature is deprecated and will be removed in future versions.} {description: The procedure has a deprecated field. ('config' used by 'apoc.meta.graphSample' is deprecated.)} {position: line: 1, column: 1, offset: 0} for query: \"CALL apoc.meta.graphSample() YIELD nodes, relationships RETURN nodes, [rel in relationships | {name:apoc.any.property(rel, 'type'), count: apoc.any.property(rel, 'count')}] AS relationships\"\n"
     ]
    },
    {
     "name": "stdout",
     "output_type": "stream",
     "text": [
      "Processed term 'Transport Projects' with hop type 'first_hops'.\n",
      "Removed temp file 'temp_passages/first_hops_Transport_Projects.txt'.\n",
      "Error recording pair (first_hops, Transport Projects): '_csv.writer' object has no attribute 'flush'\n",
      "Saved passage for term 'Road Safety Initiatives' to 'temp_passages/first_hops_Road_Safety_Initiatives.txt'.\n"
     ]
    },
    {
     "name": "stderr",
     "output_type": "stream",
     "text": [
      "Parsing nodes: 100%|██████████| 1/1 [00:00<00:00, 979.52it/s]\n",
      "Extracting paths from text: 100%|██████████| 1/1 [00:01<00:00,  1.74s/it]\n",
      "Generating embeddings: 100%|██████████| 1/1 [00:00<00:00, 15.98it/s]\n",
      "Generating embeddings: 100%|██████████| 6/6 [00:00<00:00,  7.44it/s]\n",
      "Received notification from DBMS server: {severity: WARNING} {code: Neo.ClientNotification.Statement.FeatureDeprecationWarning} {category: DEPRECATION} {title: This feature is deprecated and will be removed in future versions.} {description: The procedure has a deprecated field. ('config' used by 'apoc.meta.graphSample' is deprecated.)} {position: line: 1, column: 1, offset: 0} for query: \"CALL apoc.meta.graphSample() YIELD nodes, relationships RETURN nodes, [rel in relationships | {name:apoc.any.property(rel, 'type'), count: apoc.any.property(rel, 'count')}] AS relationships\"\n"
     ]
    },
    {
     "name": "stdout",
     "output_type": "stream",
     "text": [
      "Processed term 'Road Safety Initiatives' with hop type 'first_hops'.\n",
      "Removed temp file 'temp_passages/first_hops_Road_Safety_Initiatives.txt'.\n",
      "Error recording pair (first_hops, Road Safety Initiatives): '_csv.writer' object has no attribute 'flush'\n",
      "Saved passage for term 'Public Transport Development' to 'temp_passages/first_hops_Public_Transport_Development.txt'.\n"
     ]
    },
    {
     "name": "stderr",
     "output_type": "stream",
     "text": [
      "Parsing nodes: 100%|██████████| 1/1 [00:00<00:00, 909.83it/s]\n",
      "Extracting paths from text:   0%|          | 0/1 [00:00<?, ?it/s]"
     ]
    },
    {
     "name": "stdout",
     "output_type": "stream",
     "text": [
      "Interrupt received. Exiting...\n",
      "Removed temp file 'temp_passages/first_hops_Public_Transport_Development.txt'.\n"
     ]
    },
    {
     "ename": "SystemExit",
     "evalue": "0",
     "output_type": "error",
     "traceback": [
      "An exception has occurred, use %tb to see the full traceback.\n",
      "\u001b[0;31mSystemExit\u001b[0m\u001b[0;31m:\u001b[0m 0\n"
     ]
    },
    {
     "name": "stderr",
     "output_type": "stream",
     "text": [
      "/Users/felipenavarro/Documents/Auckland/nzta/nzta_experiment/NZTA-GraphRAG-Experiment/nzta_experiment_env/lib/python3.11/site-packages/IPython/core/interactiveshell.py:3585: UserWarning: To exit: use 'exit', 'quit', or Ctrl-D.\n",
      "  warn(\"To exit: use 'exit', 'quit', or Ctrl-D.\", stacklevel=1)\n"
     ]
    }
   ],
   "source": [
    "import os\n",
    "import csv\n",
    "import re\n",
    "import signal\n",
    "import sys\n",
    "import time\n",
    "from llama_index.core import PropertyGraphIndex\n",
    "from llama_index.core.indices.property_graph import SimpleLLMPathExtractor\n",
    "from llama_index.core import SimpleDirectoryReader\n",
    "import nest_asyncio\n",
    "\n",
    "nest_asyncio.apply()\n",
    "\n",
    "# Constants\n",
    "PROCESSED_FILE = 'processed_passages.csv'\n",
    "TEMP_DIR = 'temp_passages'\n",
    "\n",
    "# Initialize processed pairs set\n",
    "processed_pairs = set()\n",
    "\n",
    "# Sanitize filenames by replacing non-alphanumeric characters with underscores\n",
    "sanitize_filename = lambda name: re.sub(r'[^a-zA-Z0-9_\\-]', '_', name)\n",
    "\n",
    "# Generate a unique filename with optional integer suffix\n",
    "def generate_unique_filename(hop_type, term, directory, extension='txt'):\n",
    "    base_name = f\"{sanitize_filename(hop_type)}_{sanitize_filename(term)}\"\n",
    "    file_path = os.path.join(directory, f\"{base_name}.{extension}\")\n",
    "    counter = 1\n",
    "    while os.path.exists(file_path):\n",
    "        file_path = os.path.join(directory, f\"{base_name}_{counter}.{extension}\")\n",
    "        counter += 1\n",
    "    return file_path\n",
    "\n",
    "# Load processed pairs from CSV\n",
    "def load_processed_pairs(file_path):\n",
    "    if os.path.exists(file_path):\n",
    "        try:\n",
    "            with open(file_path, 'r', newline='', encoding='utf-8') as csvfile:\n",
    "                reader = csv.reader(csvfile)\n",
    "                processed_pairs.update(tuple(row[:2]) for row in reader if len(row) >= 2)\n",
    "            print(f\"Loaded {len(processed_pairs)} processed pairs from '{file_path}'.\")\n",
    "        except Exception as e:\n",
    "            print(f\"Error loading processed pairs: {e}\")\n",
    "    else:\n",
    "        print(f\"No existing processed file found at '{file_path}'. Starting fresh.\")\n",
    "\n",
    "# Append a processed pair to CSV\n",
    "def append_processed_pair(writer, hop_type, term):\n",
    "    try:\n",
    "        writer.writerow([hop_type, term])\n",
    "        writer.flush()\n",
    "        os.fsync(writer.fileno())\n",
    "        processed_pairs.add((hop_type, term))\n",
    "        print(f\"Recorded pair: Hop Type='{hop_type}', Term='{term}'\")\n",
    "    except Exception as e:\n",
    "        print(f\"Error recording pair ({hop_type}, {term}): {e}\")\n",
    "\n",
    "# Signal handler for graceful shutdown\n",
    "def signal_handler(sig, frame):\n",
    "    print('Interrupt received. Exiting...')\n",
    "    sys.exit(0)\n",
    "\n",
    "signal.signal(signal.SIGINT, signal_handler)\n",
    "signal.signal(signal.SIGTERM, signal_handler)\n",
    "\n",
    "# Ensure temp directory exists\n",
    "os.makedirs(TEMP_DIR, exist_ok=True)\n",
    "\n",
    "# Load already processed pairs\n",
    "load_processed_pairs(PROCESSED_FILE)\n",
    "\n",
    "# Open the processed file in append mode\n",
    "try:\n",
    "    processed_file = open(PROCESSED_FILE, 'a', newline='', encoding='utf-8', buffering=1)\n",
    "    csv_writer = csv.writer(processed_file)\n",
    "except Exception as e:\n",
    "    print(f\"Failed to open '{PROCESSED_FILE}' for appending: {e}\")\n",
    "    sys.exit(1)\n",
    "\n",
    "# Helper function to process and save passages\n",
    "def process_passages(hop_type, data):\n",
    "    for term, info in data.items():\n",
    "        if (hop_type, term) in processed_pairs:\n",
    "            print(f\"Skipping already processed pair: Hop Type={hop_type}, Term={term}\")\n",
    "            continue\n",
    "\n",
    "        passage = info.get('passage')\n",
    "        if not passage:\n",
    "            print(f\"No passage found for term '{term}'. Skipping.\")\n",
    "            continue\n",
    "\n",
    "        # Ensure only one file in temp directory\n",
    "        for existing_file in os.listdir(TEMP_DIR):\n",
    "            existing_path = os.path.join(TEMP_DIR, existing_file)\n",
    "            os.remove(existing_path)\n",
    "            print(f\"Removed existing file '{existing_path}' from temp directory.\")\n",
    "\n",
    "        # Generate unique filename and save passage\n",
    "        temp_file_path = generate_unique_filename(hop_type, term, TEMP_DIR)\n",
    "        try:\n",
    "            with open(temp_file_path, 'w', encoding='utf-8') as file:\n",
    "                file.write(passage)\n",
    "            print(f\"Saved passage for term '{term}' to '{temp_file_path}'.\")\n",
    "        except Exception as e:\n",
    "            print(f\"Error writing passage for term '{term}' to '{temp_file_path}': {e}\")\n",
    "            continue\n",
    "\n",
    "        # Process the passage\n",
    "        try:\n",
    "            graph_documents = SimpleDirectoryReader(TEMP_DIR).load_data()\n",
    "            graph_index = PropertyGraphIndex.from_documents(\n",
    "                graph_documents,\n",
    "                property_graph_store=property_graph_store,  # Ensure these are defined\n",
    "                storage_context=storage_context,            # Ensure these are defined\n",
    "                kg_extractors=[SimpleLLMPathExtractor(llm=llm)],  # Ensure llm is defined\n",
    "                embed_kg_nodes=True,\n",
    "                show_progress=True\n",
    "            )\n",
    "            print(f\"Processed term '{term}' with hop type '{hop_type}'.\")\n",
    "            time.sleep(20)  # Pause as required\n",
    "        except Exception as e:\n",
    "            print(f\"Error processing term '{term}': {e}\")\n",
    "            continue\n",
    "        finally:\n",
    "            # Remove the temp file after processing\n",
    "            try:\n",
    "                os.remove(temp_file_path)\n",
    "                print(f\"Removed temp file '{temp_file_path}'.\")\n",
    "            except Exception as e:\n",
    "                print(f\"Error removing temp file '{temp_file_path}': {e}\")\n",
    "\n",
    "        # Record the processed pair\n",
    "        append_processed_pair(csv_writer, hop_type, term)\n",
    "\n",
    "\n",
    "\n",
    "# Process passages for each hop type\n",
    "process_passages('first_hops', data.get('first_hops', {}))\n",
    "process_passages('second_hops', data.get('second_hops', {}))\n",
    "\n",
    "# Close the processed file\n",
    "try:\n",
    "    processed_file.close()\n",
    "    print(f\"All processed pairs have been recorded to '{PROCESSED_FILE}'.\")\n",
    "except Exception as e:\n",
    "    print(f\"Error closing '{PROCESSED_FILE}': {e}\")\n"
   ]
  },
  {
   "cell_type": "markdown",
   "metadata": {},
   "source": []
  }
 ],
 "metadata": {
  "kernelspec": {
   "display_name": "nzta_experiment_env",
   "language": "python",
   "name": "python3"
  },
  "language_info": {
   "codemirror_mode": {
    "name": "ipython",
    "version": 3
   },
   "file_extension": ".py",
   "mimetype": "text/x-python",
   "name": "python",
   "nbconvert_exporter": "python",
   "pygments_lexer": "ipython3",
   "version": "3.11.10"
  }
 },
 "nbformat": 4,
 "nbformat_minor": 2
}
